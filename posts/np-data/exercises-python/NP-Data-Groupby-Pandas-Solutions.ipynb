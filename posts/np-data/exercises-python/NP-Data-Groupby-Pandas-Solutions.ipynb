{
  "cells": [
    {
      "cell_type": "markdown",
      "metadata": {},
      "source": [
        "# Pandas Groupby with National Park Visitation Data (Solution)\n",
        "\n",
        "# Load the data"
      ],
      "id": "f8aadcf7-ee2f-4dc0-8c81-b6328cfdd5b2"
    },
    {
      "cell_type": "code",
      "execution_count": 1,
      "metadata": {},
      "outputs": [],
      "source": [
        "import pandas as pd\n",
        "\n",
        "np_data = pd.read_csv(\"https://raw.githubusercontent.com/melaniewalsh/Neat-Datasets/main/1979-2020-National-Park-Visits-By-State.csv\")"
      ],
      "id": "1c76a685"
    },
    {
      "cell_type": "markdown",
      "metadata": {},
      "source": [
        "# Exercise 1\n",
        "\n",
        "What is the average number of visits for *each state*?\n",
        "\n",
        "Save as `avg_state_visits` and then view the resulting dataframe."
      ],
      "id": "f0c92cf4-7951-4e0b-a667-7a1b8ec71b3a"
    },
    {
      "cell_type": "code",
      "execution_count": 2,
      "metadata": {},
      "outputs": [
        {
          "output_type": "display_data",
          "metadata": {},
          "data": {
            "text/html": [
              "\n",
              "</div>"
            ]
          }
        }
      ],
      "source": [
        "avg_state_visits = np_data.groupby('State')['RecreationVisits'].mean().reset_index()\n",
        "avg_state_visits"
      ],
      "id": "15f74a5d"
    },
    {
      "cell_type": "markdown",
      "metadata": {},
      "source": [
        "Discuss/consider: What state has the most and least average visits? What\n",
        "patterns or surprises do you notice?\n",
        "\n",
        "# Exercise 2\n",
        "\n",
        "What is the average number of visits for *each National Park*?\n",
        "\n",
        "Save as `avg_park_visits` and then view the resulting dataframe."
      ],
      "id": "8722c953-e145-435f-9c55-b5682b4e8a33"
    },
    {
      "cell_type": "code",
      "execution_count": 3,
      "metadata": {},
      "outputs": [
        {
          "output_type": "display_data",
          "metadata": {},
          "data": {
            "text/html": [
              "\n",
              "<p>63 rows × 2 columns</p>\n",
              "</div>"
            ]
          }
        }
      ],
      "source": [
        "avg_park_visits = np_data.groupby('ParkName')['RecreationVisits'].mean().reset_index()\n",
        "avg_park_visits"
      ],
      "id": "0fedbcc8"
    },
    {
      "cell_type": "markdown",
      "metadata": {},
      "source": [
        "Discuss/consider: Which National Park has the most and least average\n",
        "visits? What patterns or surprises do you notice?\n",
        "\n",
        "# Exercise 3:\n",
        "\n",
        "How many National Parks are there in *each state*?\n",
        "\n",
        "Save your answer as `distinct_parks`."
      ],
      "id": "2dca93a3-18cf-49fa-bc34-29ab5a537758"
    },
    {
      "cell_type": "code",
      "execution_count": 4,
      "metadata": {},
      "outputs": [
        {
          "output_type": "display_data",
          "metadata": {},
          "data": {
            "text/html": [
              "\n",
              "</div>"
            ]
          }
        }
      ],
      "source": [
        "distinct_parks = np_data.groupby('State')['ParkName'].nunique().reset_index(name='NumParks')\n",
        "distinct_parks"
      ],
      "id": "08e806c1"
    },
    {
      "cell_type": "markdown",
      "metadata": {},
      "source": [
        "Discuss/consider: What state has the most and least average visits? What\n",
        "patterns or surprises do you notice?"
      ],
      "id": "6994ee50-9107-48f2-9749-8a7350003288"
    }
  ],
  "nbformat": 4,
  "nbformat_minor": 5,
  "metadata": {
    "kernelspec": {
      "name": "python3",
      "display_name": "Python 3 (ipykernel)",
      "language": "python",
      "path": "/opt/hostedtoolcache/Python/3.10.18/x64/share/jupyter/kernels/python3"
    },
    "language_info": {
      "name": "python",
      "codemirror_mode": {
        "name": "ipython",
        "version": "3"
      },
      "file_extension": ".py",
      "mimetype": "text/x-python",
      "nbconvert_exporter": "python",
      "pygments_lexer": "ipython3",
      "version": "3.10.18"
    }
  }
}