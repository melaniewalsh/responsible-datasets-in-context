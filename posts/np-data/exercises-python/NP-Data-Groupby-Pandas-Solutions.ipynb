{
  "cells": [
    {
      "cell_type": "markdown",
      "metadata": {},
      "source": [
        "# Pandas Groupby with National Park Visitation Data (Solution)\n",
        "\n",
        "# Load the data"
      ],
      "id": "74010375-ed85-48bd-a1f5-089b07512e4d"
    },
    {
      "cell_type": "code",
      "execution_count": 1,
      "metadata": {},
      "outputs": [],
      "source": [
        "import pandas as pd\n",
        "\n",
        "np_data = pd.read_csv(\"https://raw.githubusercontent.com/melaniewalsh/Neat-Datasets/main/1979-2020-National-Park-Visits-By-State.csv\")"
      ],
      "id": "10f3d99f"
    },
    {
      "cell_type": "markdown",
      "metadata": {},
      "source": [
        "# Exercise 1\n",
        "\n",
        "What is the average number of visits for *each state*?\n",
        "\n",
        "Save as `avg_state_visits` and then view the resulting dataframe."
      ],
      "id": "2eb77cd3-d17b-4e7f-bcb5-9d465adf3cbd"
    },
    {
      "cell_type": "code",
      "execution_count": 2,
      "metadata": {},
      "outputs": [
        {
          "output_type": "display_data",
          "metadata": {},
          "data": {
            "text/html": [
              "\n",
              "</div>"
            ]
          }
        }
      ],
      "source": [
        "avg_state_visits = np_data.groupby('State')['RecreationVisits'].mean().reset_index()\n",
        "avg_state_visits"
      ],
      "id": "cfc9f41f"
    },
    {
      "cell_type": "markdown",
      "metadata": {},
      "source": [
        "Discuss/consider: What state has the most and least average visits? What\n",
        "patterns or surprises do you notice?\n",
        "\n",
        "# Exercise 2\n",
        "\n",
        "What is the average number of visits for *each National Park*?\n",
        "\n",
        "Save as `avg_park_visits` and then view the resulting dataframe."
      ],
      "id": "8655bbad-34a0-4b7e-b05c-59a7cad97908"
    },
    {
      "cell_type": "code",
      "execution_count": 3,
      "metadata": {},
      "outputs": [
        {
          "output_type": "display_data",
          "metadata": {},
          "data": {
            "text/html": [
              "\n",
              "<p>63 rows × 2 columns</p>\n",
              "</div>"
            ]
          }
        }
      ],
      "source": [
        "avg_park_visits = np_data.groupby('ParkName')['RecreationVisits'].mean().reset_index()\n",
        "avg_park_visits"
      ],
      "id": "3ccc312c"
    },
    {
      "cell_type": "markdown",
      "metadata": {},
      "source": [
        "Discuss/consider: Which National Park has the most and least average\n",
        "visits? What patterns or surprises do you notice?\n",
        "\n",
        "# Exercise 3:\n",
        "\n",
        "How many National Parks are there in *each state*?\n",
        "\n",
        "Save your answer as `distinct_parks`."
      ],
      "id": "abd7ce49-bbb5-4355-8227-2d92741d976c"
    },
    {
      "cell_type": "code",
      "execution_count": 4,
      "metadata": {},
      "outputs": [
        {
          "output_type": "display_data",
          "metadata": {},
          "data": {
            "text/html": [
              "\n",
              "</div>"
            ]
          }
        }
      ],
      "source": [
        "distinct_parks = np_data.groupby('State')['ParkName'].nunique().reset_index(name='NumParks')\n",
        "distinct_parks"
      ],
      "id": "9bf98081"
    },
    {
      "cell_type": "markdown",
      "metadata": {},
      "source": [
        "Discuss/consider: What state has the most and least average visits? What\n",
        "patterns or surprises do you notice?"
      ],
      "id": "de89215a-61f7-47e2-8ea6-8a37fdac09ee"
    }
  ],
  "nbformat": 4,
  "nbformat_minor": 5,
  "metadata": {
    "kernelspec": {
      "name": "python3",
      "display_name": "Python 3 (ipykernel)",
      "language": "python",
      "path": "/opt/hostedtoolcache/Python/3.10.18/x64/share/jupyter/kernels/python3"
    },
    "language_info": {
      "name": "python",
      "codemirror_mode": {
        "name": "ipython",
        "version": "3"
      },
      "file_extension": ".py",
      "mimetype": "text/x-python",
      "nbconvert_exporter": "python",
      "pygments_lexer": "ipython3",
      "version": "3.10.18"
    }
  }
}