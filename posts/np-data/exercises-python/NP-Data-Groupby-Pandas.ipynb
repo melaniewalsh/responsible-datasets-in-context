{
  "cells": [
    {
      "cell_type": "markdown",
      "metadata": {},
      "source": [
        "# Pandas Groupby with National Park Visitation Data (Exercise)\n",
        "\n",
        "# Load the data\n",
        "\n",
        "``` python\n",
        "import pandas as pd\n",
        "\n",
        "np_data = pd.read_csv(\"https://raw.githubusercontent.com/melaniewalsh/Neat-Datasets/main/1979-2020-National-Park-Visits-By-State.csv\")\n",
        "```\n",
        "\n",
        "# Exercise 1\n",
        "\n",
        "What is the average number of visits for *each state*?\n",
        "\n",
        "Save as `avg_state_visits` and then view the resulting dataframe.\n",
        "\n",
        "``` python\n",
        "Your code here\n",
        "```\n",
        "\n",
        "Discuss/consider: What state has the most and least average visits? What\n",
        "patterns or surprises do you notice?\n",
        "\n",
        "# Exercise 2\n",
        "\n",
        "What is the average number of visits for *each National Park*?\n",
        "\n",
        "Save as `avg_park_visits` and then view the resulting dataframe.\n",
        "\n",
        "``` python\n",
        "Your code here\n",
        "```\n",
        "\n",
        "Discuss/consider: Which National Park has the most and least average\n",
        "visits? What patterns or surprises do you notice?\n",
        "\n",
        "# Exercise 3:\n",
        "\n",
        "How many National Parks are there in *each state*?\n",
        "\n",
        "Save your answer as `distinct_parks`.\n",
        "\n",
        "``` python\n",
        "Your code here\n",
        "```\n",
        "\n",
        "Discuss/consider: What state has the most and least average visits? What\n",
        "patterns or surprises do you notice?"
      ],
      "id": "8822fb91-825b-4a8d-b00a-a24641e9c8d8"
    }
  ],
  "nbformat": 4,
  "nbformat_minor": 5,
  "metadata": {
    "kernelspec": {
      "display_name": "Python 3",
      "language": "python",
      "name": "python3"
    }
  }
}