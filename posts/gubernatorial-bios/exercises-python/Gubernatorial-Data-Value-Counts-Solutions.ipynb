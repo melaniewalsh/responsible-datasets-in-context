{
  "cells": [
    {
      "cell_type": "markdown",
      "metadata": {},
      "source": [
        "# Pandas Value Counts with Gubernatorial Data (Solution)\n",
        "\n",
        "# Load the data"
      ],
      "id": "22ab2e0a-2927-4b31-89bf-a153c80679c4"
    },
    {
      "cell_type": "code",
      "execution_count": 1,
      "metadata": {},
      "outputs": [],
      "source": [
        "import pandas as pd\n",
        "df  = pd.read_csv(\"https://raw.githubusercontent.com/melaniewalsh/responsible-datasets-in-context/refs/heads/main/datasets/gubernatorial-bios/gubernatorial_bios_final.csv\")"
      ],
      "id": "760065e2"
    },
    {
      "cell_type": "markdown",
      "metadata": {},
      "source": [
        "# Exercise 1\n",
        "\n",
        "What are the top 5 birth states for governors?\n",
        "\n",
        "Save as `top_birth_states` and then view the resulting dataframe."
      ],
      "id": "01951df8-fc7c-479e-8cf8-f28b94f4436f"
    },
    {
      "cell_type": "code",
      "execution_count": 2,
      "metadata": {},
      "outputs": [
        {
          "output_type": "display_data",
          "metadata": {},
          "data": {
            "text/plain": [
              "birth_state_territory\n",
              "New York          162\n",
              "Virginia          147\n",
              "Pennsylvania      112\n",
              "Massachusetts     102\n",
              "South Carolina    101\n",
              "Name: count, dtype: int64"
            ]
          }
        }
      ],
      "source": [
        "top_birth_states = (\n",
        "    df['birth_state_territory']\n",
        "    .value_counts()\n",
        "    .head(5)\n",
        ")\n",
        "top_birth_states"
      ],
      "id": "f9f1dea4"
    },
    {
      "cell_type": "markdown",
      "metadata": {},
      "source": [
        "Discuss/consider: What states are the most common birth spots for\n",
        "governors? Are there similar traits between the top states?\n",
        "\n",
        "# Exercise 2\n",
        "\n",
        "Let’s now look at the initial age for governors and the distribution. We\n",
        "already visualized the average starting age in the main data essay, but\n",
        "let’s look at the distribution across the entire dataframe\n",
        "\n",
        "First, let’s cut the age_at_start variable into bins, so people between\n",
        "ages 20 and 30 get mapped to 20, 30 and 40 to 30 etc. Let’s call this\n",
        "new column `age_bucket`. We will use the Pandas function\n",
        "\\[pd.cut\\]{https://pandas.pydata.org/docs/reference/api/pandas.cut.html}.\n",
        "\n",
        "Now let’s display the `value_counts` of the `age_bucket` column and\n",
        "let’s sort by the age."
      ],
      "id": "0c25da39-c516-477d-9c40-98791af591a1"
    },
    {
      "cell_type": "code",
      "execution_count": 3,
      "metadata": {},
      "outputs": [
        {
          "output_type": "display_data",
          "metadata": {},
          "data": {
            "text/plain": [
              "age_bucket\n",
              "(20, 30]       7\n",
              "(30, 40]     374\n",
              "(40, 50]    1004\n",
              "(50, 60]     789\n",
              "(60, 70]     279\n",
              "(70, 80]      32\n",
              "Name: count, dtype: int64"
            ]
          }
        }
      ],
      "source": [
        "df['age_bucket'] = pd.cut(df['age_at_start'], bins=[20,30,40,50,60,70,80])\n",
        "df['age_bucket'].value_counts().sort_index()"
      ],
      "id": "4f2b49b3"
    },
    {
      "cell_type": "markdown",
      "metadata": {},
      "source": [
        "Discuss/consider: Which age range has the most governors?\n",
        "\n",
        "# Exercise 3:\n",
        "\n",
        "Let’s look at the outlier governors who started office at or below the\n",
        "age of 30. Let’s filter the dataset down to this set by filtering on the\n",
        "`age_at_start` column, call it `young_governors` and display it."
      ],
      "id": "ed07a304-9e8b-4878-98b9-0ad5c4887f8a"
    },
    {
      "cell_type": "code",
      "execution_count": 4,
      "metadata": {},
      "outputs": [
        {
          "output_type": "display_data",
          "metadata": {},
          "data": {
            "text/html": [
              "\n",
              "</div>"
            ]
          }
        }
      ],
      "source": [
        "young_governors = df[df['age_at_start'] <= 30]\n",
        "young_governors"
      ],
      "id": "8b87ce79"
    },
    {
      "cell_type": "markdown",
      "metadata": {},
      "source": [
        "Discuss/consider: Who are the youngest governors in American History?\n",
        "What era are they from? Take a look at some of their Wikipedia pages and\n",
        "NGA biographies online."
      ],
      "id": "e9dd6e60-f690-46fa-af74-05cca3644146"
    }
  ],
  "nbformat": 4,
  "nbformat_minor": 5,
  "metadata": {
    "kernelspec": {
      "name": "python3",
      "display_name": "Python 3 (ipykernel)",
      "language": "python",
      "path": "/opt/hostedtoolcache/Python/3.10.18/x64/share/jupyter/kernels/python3"
    },
    "language_info": {
      "name": "python",
      "codemirror_mode": {
        "name": "ipython",
        "version": "3"
      },
      "file_extension": ".py",
      "mimetype": "text/x-python",
      "nbconvert_exporter": "python",
      "pygments_lexer": "ipython3",
      "version": "3.10.18"
    }
  }
}