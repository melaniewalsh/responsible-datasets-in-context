{
  "cells": [
    {
      "cell_type": "markdown",
      "metadata": {},
      "source": [
        "# Pandas Groupby with National Park Visitation Data (Solution)\n",
        "\n",
        "# Load the data"
      ],
      "id": "27a9ffaa-2b60-41ad-9d5f-44c4772984ae"
    },
    {
      "cell_type": "code",
      "execution_count": 1,
      "metadata": {},
      "outputs": [],
      "source": [
        "import pandas as pd\n",
        "\n",
        "np_data = pd.read_csv(\"https://raw.githubusercontent.com/melaniewalsh/Neat-Datasets/main/1979-2020-National-Park-Visits-By-State.csv\")"
      ],
      "id": "d2d926d0"
    },
    {
      "cell_type": "markdown",
      "metadata": {},
      "source": [
        "# Exercise 1\n",
        "\n",
        "What is the average number of visits for *each state*?\n",
        "\n",
        "Save as `avg_state_visits` and then view the resulting dataframe."
      ],
      "id": "c86f2b38-33b9-4324-9384-370e3566ff8b"
    },
    {
      "cell_type": "code",
      "execution_count": 2,
      "metadata": {},
      "outputs": [
        {
          "output_type": "display_data",
          "metadata": {},
          "data": {
            "text/html": [
              "\n",
              "</div>"
            ]
          }
        }
      ],
      "source": [
        "avg_state_visits = np_data.groupby('State')['RecreationVisits'].mean().reset_index()\n",
        "avg_state_visits"
      ],
      "id": "8418b853"
    },
    {
      "cell_type": "markdown",
      "metadata": {},
      "source": [
        "Discuss/consider: What state has the most and least average visits? What\n",
        "patterns or surprises do you notice?\n",
        "\n",
        "# Exercise 2\n",
        "\n",
        "What is the average number of visits for *each National Park*?\n",
        "\n",
        "Save as `avg_park_visits` and then view the resulting dataframe."
      ],
      "id": "59378e53-af18-470c-9171-ac702c566300"
    },
    {
      "cell_type": "code",
      "execution_count": 3,
      "metadata": {},
      "outputs": [
        {
          "output_type": "display_data",
          "metadata": {},
          "data": {
            "text/html": [
              "\n",
              "<p>63 rows × 2 columns</p>\n",
              "</div>"
            ]
          }
        }
      ],
      "source": [
        "avg_park_visits = np_data.groupby('ParkName')['RecreationVisits'].mean().reset_index()\n",
        "avg_park_visits"
      ],
      "id": "ebd96b91"
    },
    {
      "cell_type": "markdown",
      "metadata": {},
      "source": [
        "Discuss/consider: Which National Park has the most and least average\n",
        "visits? What patterns or surprises do you notice?\n",
        "\n",
        "# Exercise 3:\n",
        "\n",
        "How many National Parks are there in *each state*?\n",
        "\n",
        "Save your answer as `distinct_parks`."
      ],
      "id": "0ac0be58-b235-443d-b9a8-faa11fed1c4b"
    },
    {
      "cell_type": "code",
      "execution_count": 4,
      "metadata": {},
      "outputs": [
        {
          "output_type": "display_data",
          "metadata": {},
          "data": {
            "text/html": [
              "\n",
              "</div>"
            ]
          }
        }
      ],
      "source": [
        "distinct_parks = np_data.groupby('State')['ParkName'].nunique().reset_index(name='NumParks')\n",
        "distinct_parks"
      ],
      "id": "f7d5ec17"
    },
    {
      "cell_type": "markdown",
      "metadata": {},
      "source": [
        "Discuss/consider: What state has the most and least average visits? What\n",
        "patterns or surprises do you notice?"
      ],
      "id": "0b080c31-c83d-49d6-87ee-809fc51a4b03"
    }
  ],
  "nbformat": 4,
  "nbformat_minor": 5,
  "metadata": {
    "kernelspec": {
      "name": "python3",
      "display_name": "Python 3 (ipykernel)",
      "language": "python",
      "path": "/Users/melwalsh/Library/Python/3.9/share/jupyter/kernels/python3"
    },
    "language_info": {
      "name": "python",
      "codemirror_mode": {
        "name": "ipython",
        "version": "3"
      },
      "file_extension": ".py",
      "mimetype": "text/x-python",
      "nbconvert_exporter": "python",
      "pygments_lexer": "ipython3",
      "version": "3.9.6"
    }
  }
}