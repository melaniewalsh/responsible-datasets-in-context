{
  "cells": [
    {
      "cell_type": "markdown",
      "metadata": {},
      "source": [
        "# Pandas Groupby with National Park Visitation Data (Solution)\n",
        "\n",
        "# Load the data"
      ],
      "id": "f1bbe3ab-c175-4f42-a26e-d5870482cb95"
    },
    {
      "cell_type": "code",
      "execution_count": 1,
      "metadata": {},
      "outputs": [],
      "source": [
        "import pandas as pd\n",
        "\n",
        "np_data = pd.read_csv(\"https://raw.githubusercontent.com/melaniewalsh/Neat-Datasets/main/1979-2020-National-Park-Visits-By-State.csv\")"
      ],
      "id": "868ebb75"
    },
    {
      "cell_type": "markdown",
      "metadata": {},
      "source": [
        "# Exercise 1\n",
        "\n",
        "What is the average number of visits for *each state*?\n",
        "\n",
        "Save as `avg_state_visits` and then view the resulting dataframe."
      ],
      "id": "6e633798-ff62-4397-8c3b-02f05b7fd7c0"
    },
    {
      "cell_type": "code",
      "execution_count": 2,
      "metadata": {},
      "outputs": [
        {
          "output_type": "display_data",
          "metadata": {},
          "data": {
            "text/html": [
              "\n",
              "</div>"
            ]
          }
        }
      ],
      "source": [
        "avg_state_visits = np_data.groupby('State')['RecreationVisits'].mean().reset_index()\n",
        "avg_state_visits"
      ],
      "id": "0640de89"
    },
    {
      "cell_type": "markdown",
      "metadata": {},
      "source": [
        "Discuss/consider: What state has the most and least average visits? What\n",
        "patterns or surprises do you notice?\n",
        "\n",
        "# Exercise 2\n",
        "\n",
        "What is the average number of visits for *each National Park*?\n",
        "\n",
        "Save as `avg_park_visits` and then view the resulting dataframe."
      ],
      "id": "0eee879f-86a8-4738-b365-9994a4e22200"
    },
    {
      "cell_type": "code",
      "execution_count": 3,
      "metadata": {},
      "outputs": [
        {
          "output_type": "display_data",
          "metadata": {},
          "data": {
            "text/html": [
              "\n",
              "<p>63 rows × 2 columns</p>\n",
              "</div>"
            ]
          }
        }
      ],
      "source": [
        "avg_park_visits = np_data.groupby('ParkName')['RecreationVisits'].mean().reset_index()\n",
        "avg_park_visits"
      ],
      "id": "05f574dd"
    },
    {
      "cell_type": "markdown",
      "metadata": {},
      "source": [
        "Discuss/consider: Which National Park has the most and least average\n",
        "visits? What patterns or surprises do you notice?\n",
        "\n",
        "# Exercise 3:\n",
        "\n",
        "How many National Parks are there in *each state*?\n",
        "\n",
        "Save your answer as `distinct_parks`."
      ],
      "id": "cce8afa7-39f6-46df-b1ed-d46c0fd6dea9"
    },
    {
      "cell_type": "code",
      "execution_count": 4,
      "metadata": {},
      "outputs": [
        {
          "output_type": "display_data",
          "metadata": {},
          "data": {
            "text/html": [
              "\n",
              "</div>"
            ]
          }
        }
      ],
      "source": [
        "distinct_parks = np_data.groupby('State')['ParkName'].nunique().reset_index(name='NumParks')\n",
        "distinct_parks"
      ],
      "id": "8f81e78c"
    },
    {
      "cell_type": "markdown",
      "metadata": {},
      "source": [
        "Discuss/consider: What state has the most and least average visits? What\n",
        "patterns or surprises do you notice?"
      ],
      "id": "ae11be8a-3f4f-405b-8b3e-36726f63f533"
    }
  ],
  "nbformat": 4,
  "nbformat_minor": 5,
  "metadata": {
    "kernelspec": {
      "name": "python3",
      "display_name": "Python 3 (ipykernel)",
      "language": "python",
      "path": "/Users/melwalsh/Library/Python/3.9/share/jupyter/kernels/python3"
    },
    "language_info": {
      "name": "python",
      "codemirror_mode": {
        "name": "ipython",
        "version": "3"
      },
      "file_extension": ".py",
      "mimetype": "text/x-python",
      "nbconvert_exporter": "python",
      "pygments_lexer": "ipython3",
      "version": "3.9.6"
    }
  }
}